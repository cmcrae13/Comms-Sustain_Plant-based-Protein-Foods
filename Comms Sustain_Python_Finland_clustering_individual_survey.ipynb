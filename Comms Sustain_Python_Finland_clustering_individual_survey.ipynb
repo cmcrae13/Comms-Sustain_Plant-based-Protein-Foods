{
  "nbformat": 4,
  "nbformat_minor": 0,
  "metadata": {
    "colab": {
      "provenance": []
    },
    "kernelspec": {
      "name": "python3",
      "display_name": "Python 3"
    },
    "language_info": {
      "name": "python"
    }
  },
  "cells": [
    {
      "cell_type": "code",
      "execution_count": null,
      "metadata": {
        "colab": {
          "base_uri": "https://localhost:8080/"
        },
        "id": "lM73JKsG-C3u",
        "outputId": "e3ddb4b4-f1ec-4b16-fb56-07bef7a4b3c5"
      },
      "outputs": [
        {
          "output_type": "stream",
          "name": "stdout",
          "text": [
            "Drive already mounted at /content/drive; to attempt to forcibly remount, call drive.mount(\"/content/drive\", force_remount=True).\n"
          ]
        }
      ],
      "source": [
        "from google.colab import drive\n",
        "import os\n",
        "drive.mount('/content/drive')\n",
        "os.chdir('/content/drive/MyDrive/Colab Notebooks/FIN protein data')"
      ]
    },
    {
      "cell_type": "code",
      "source": [
        "pip install kmodes"
      ],
      "metadata": {
        "colab": {
          "base_uri": "https://localhost:8080/"
        },
        "id": "JRFuYUyX-jqG",
        "outputId": "139e025c-6a11-494c-f9ca-2b52036650df"
      },
      "execution_count": null,
      "outputs": [
        {
          "output_type": "stream",
          "name": "stdout",
          "text": [
            "Looking in indexes: https://pypi.org/simple, https://us-python.pkg.dev/colab-wheels/public/simple/\n",
            "Requirement already satisfied: kmodes in /usr/local/lib/python3.7/dist-packages (0.12.1)\n",
            "Requirement already satisfied: scipy>=0.13.3 in /usr/local/lib/python3.7/dist-packages (from kmodes) (1.4.1)\n",
            "Requirement already satisfied: numpy>=1.10.4 in /usr/local/lib/python3.7/dist-packages (from kmodes) (1.21.6)\n",
            "Requirement already satisfied: scikit-learn>=0.22.0 in /usr/local/lib/python3.7/dist-packages (from kmodes) (1.0.2)\n",
            "Requirement already satisfied: joblib>=0.11 in /usr/local/lib/python3.7/dist-packages (from kmodes) (1.1.0)\n",
            "Requirement already satisfied: threadpoolctl>=2.0.0 in /usr/local/lib/python3.7/dist-packages (from scikit-learn>=0.22.0->kmodes) (3.1.0)\n"
          ]
        }
      ]
    },
    {
      "cell_type": "code",
      "source": [
        "# Import module for data manipulation\n",
        "import pandas as pd\n",
        "\n",
        "# Import module for linear algebra\n",
        "import numpy as np\n",
        "\n",
        "# Import module for data visualization\n",
        "from plotnine import *\n",
        "import plotnine\n",
        "\n",
        "# Data visualization with matplotlib\n",
        "import matplotlib.pyplot as plt\n",
        "\n",
        "# Use the theme of ggplot\n",
        "plt.style.use('ggplot')\n",
        "\n",
        "# Import module for k-protoype cluster\n",
        "from kmodes.kmodes import KModes"
      ],
      "metadata": {
        "id": "YcZIAQBT-O2G"
      },
      "execution_count": null,
      "outputs": []
    },
    {
      "cell_type": "code",
      "source": [
        "df = pd.read_csv('locardses.csv')"
      ],
      "metadata": {
        "id": "bxPdq791-sIX"
      },
      "execution_count": null,
      "outputs": []
    },
    {
      "cell_type": "code",
      "source": [
        "df.info()"
      ],
      "metadata": {
        "colab": {
          "base_uri": "https://localhost:8080/"
        },
        "id": "A6acbtUy-0IW",
        "outputId": "8c41d3a9-307a-4d2f-9ed7-1029d80535c0"
      },
      "execution_count": null,
      "outputs": [
        {
          "output_type": "stream",
          "name": "stdout",
          "text": [
            "<class 'pandas.core.frame.DataFrame'>\n",
            "RangeIndex: 36312 entries, 0 to 36311\n",
            "Data columns (total 10 columns):\n",
            " #   Column               Non-Null Count  Dtype  \n",
            "---  ------               --------------  -----  \n",
            " 0   id                   36312 non-null  int64  \n",
            " 1   postalc              36274 non-null  float64\n",
            " 2   gender               36312 non-null  object \n",
            " 3   age                  36312 non-null  int64  \n",
            " 4   marital-status       36312 non-null  object \n",
            " 5   highest-edu          36312 non-null  object \n",
            " 6   loyalty-share        36312 non-null  int64  \n",
            " 7   hh-income            36312 non-null  object \n",
            " 8   hh-expense-coverage  36312 non-null  object \n",
            " 9   weight               36312 non-null  float64\n",
            "dtypes: float64(2), int64(3), object(5)\n",
            "memory usage: 2.8+ MB\n"
          ]
        }
      ]
    },
    {
      "cell_type": "code",
      "source": [
        "df = df.astype({'id': object})"
      ],
      "metadata": {
        "id": "dWHHLyctAxIX"
      },
      "execution_count": null,
      "outputs": []
    },
    {
      "cell_type": "code",
      "source": [
        "# Select the unique value each categorical columns\n",
        "df.select_dtypes('object').nunique()"
      ],
      "metadata": {
        "colab": {
          "base_uri": "https://localhost:8080/"
        },
        "id": "peqXeSgjAUN4",
        "outputId": "97e47704-730f-4f53-99bd-076d05e07e71"
      },
      "execution_count": null,
      "outputs": [
        {
          "output_type": "execute_result",
          "data": {
            "text/plain": [
              "id                     36312\n",
              "gender                     2\n",
              "marital-status             5\n",
              "highest-edu                5\n",
              "hh-income                  8\n",
              "hh-expense-coverage        6\n",
              "dtype: int64"
            ]
          },
          "metadata": {},
          "execution_count": 16
        }
      ]
    },
    {
      "cell_type": "code",
      "source": [
        "# Select the categorical columns\n",
        "cols = df.select_dtypes('object').columns\n",
        "df_cat = df[cols]\n",
        "# Show the data\n",
        "df_cat.head()"
      ],
      "metadata": {
        "colab": {
          "base_uri": "https://localhost:8080/",
          "height": 204
        },
        "id": "yZ4QTOZgA-LZ",
        "outputId": "5d3f1f73-5e98-4334-8041-f32b26ecd345"
      },
      "execution_count": null,
      "outputs": [
        {
          "output_type": "execute_result",
          "data": {
            "text/plain": [
              "    id  gender marital-status highest-edu hh-income hh-expense-coverage\n",
              "0  2.0    male        married    tertiary      five                four\n",
              "1  3.0  female        married  university     seven                four\n",
              "2  4.0    male        married   secondary     three               three\n",
              "3  5.0    male        cohabit    tertiary     three                four\n",
              "4  6.0    male        married  university     seven                four"
            ],
            "text/html": [
              "\n",
              "  <div id=\"df-ba055361-caef-4592-b489-493ade350712\">\n",
              "    <div class=\"colab-df-container\">\n",
              "      <div>\n",
              "<style scoped>\n",
              "    .dataframe tbody tr th:only-of-type {\n",
              "        vertical-align: middle;\n",
              "    }\n",
              "\n",
              "    .dataframe tbody tr th {\n",
              "        vertical-align: top;\n",
              "    }\n",
              "\n",
              "    .dataframe thead th {\n",
              "        text-align: right;\n",
              "    }\n",
              "</style>\n",
              "<table border=\"1\" class=\"dataframe\">\n",
              "  <thead>\n",
              "    <tr style=\"text-align: right;\">\n",
              "      <th></th>\n",
              "      <th>id</th>\n",
              "      <th>gender</th>\n",
              "      <th>marital-status</th>\n",
              "      <th>highest-edu</th>\n",
              "      <th>hh-income</th>\n",
              "      <th>hh-expense-coverage</th>\n",
              "    </tr>\n",
              "  </thead>\n",
              "  <tbody>\n",
              "    <tr>\n",
              "      <th>0</th>\n",
              "      <td>2.0</td>\n",
              "      <td>male</td>\n",
              "      <td>married</td>\n",
              "      <td>tertiary</td>\n",
              "      <td>five</td>\n",
              "      <td>four</td>\n",
              "    </tr>\n",
              "    <tr>\n",
              "      <th>1</th>\n",
              "      <td>3.0</td>\n",
              "      <td>female</td>\n",
              "      <td>married</td>\n",
              "      <td>university</td>\n",
              "      <td>seven</td>\n",
              "      <td>four</td>\n",
              "    </tr>\n",
              "    <tr>\n",
              "      <th>2</th>\n",
              "      <td>4.0</td>\n",
              "      <td>male</td>\n",
              "      <td>married</td>\n",
              "      <td>secondary</td>\n",
              "      <td>three</td>\n",
              "      <td>three</td>\n",
              "    </tr>\n",
              "    <tr>\n",
              "      <th>3</th>\n",
              "      <td>5.0</td>\n",
              "      <td>male</td>\n",
              "      <td>cohabit</td>\n",
              "      <td>tertiary</td>\n",
              "      <td>three</td>\n",
              "      <td>four</td>\n",
              "    </tr>\n",
              "    <tr>\n",
              "      <th>4</th>\n",
              "      <td>6.0</td>\n",
              "      <td>male</td>\n",
              "      <td>married</td>\n",
              "      <td>university</td>\n",
              "      <td>seven</td>\n",
              "      <td>four</td>\n",
              "    </tr>\n",
              "  </tbody>\n",
              "</table>\n",
              "</div>\n",
              "      <button class=\"colab-df-convert\" onclick=\"convertToInteractive('df-ba055361-caef-4592-b489-493ade350712')\"\n",
              "              title=\"Convert this dataframe to an interactive table.\"\n",
              "              style=\"display:none;\">\n",
              "        \n",
              "  <svg xmlns=\"http://www.w3.org/2000/svg\" height=\"24px\"viewBox=\"0 0 24 24\"\n",
              "       width=\"24px\">\n",
              "    <path d=\"M0 0h24v24H0V0z\" fill=\"none\"/>\n",
              "    <path d=\"M18.56 5.44l.94 2.06.94-2.06 2.06-.94-2.06-.94-.94-2.06-.94 2.06-2.06.94zm-11 1L8.5 8.5l.94-2.06 2.06-.94-2.06-.94L8.5 2.5l-.94 2.06-2.06.94zm10 10l.94 2.06.94-2.06 2.06-.94-2.06-.94-.94-2.06-.94 2.06-2.06.94z\"/><path d=\"M17.41 7.96l-1.37-1.37c-.4-.4-.92-.59-1.43-.59-.52 0-1.04.2-1.43.59L10.3 9.45l-7.72 7.72c-.78.78-.78 2.05 0 2.83L4 21.41c.39.39.9.59 1.41.59.51 0 1.02-.2 1.41-.59l7.78-7.78 2.81-2.81c.8-.78.8-2.07 0-2.86zM5.41 20L4 18.59l7.72-7.72 1.47 1.35L5.41 20z\"/>\n",
              "  </svg>\n",
              "      </button>\n",
              "      \n",
              "  <style>\n",
              "    .colab-df-container {\n",
              "      display:flex;\n",
              "      flex-wrap:wrap;\n",
              "      gap: 12px;\n",
              "    }\n",
              "\n",
              "    .colab-df-convert {\n",
              "      background-color: #E8F0FE;\n",
              "      border: none;\n",
              "      border-radius: 50%;\n",
              "      cursor: pointer;\n",
              "      display: none;\n",
              "      fill: #1967D2;\n",
              "      height: 32px;\n",
              "      padding: 0 0 0 0;\n",
              "      width: 32px;\n",
              "    }\n",
              "\n",
              "    .colab-df-convert:hover {\n",
              "      background-color: #E2EBFA;\n",
              "      box-shadow: 0px 1px 2px rgba(60, 64, 67, 0.3), 0px 1px 3px 1px rgba(60, 64, 67, 0.15);\n",
              "      fill: #174EA6;\n",
              "    }\n",
              "\n",
              "    [theme=dark] .colab-df-convert {\n",
              "      background-color: #3B4455;\n",
              "      fill: #D2E3FC;\n",
              "    }\n",
              "\n",
              "    [theme=dark] .colab-df-convert:hover {\n",
              "      background-color: #434B5C;\n",
              "      box-shadow: 0px 1px 3px 1px rgba(0, 0, 0, 0.15);\n",
              "      filter: drop-shadow(0px 1px 2px rgba(0, 0, 0, 0.3));\n",
              "      fill: #FFFFFF;\n",
              "    }\n",
              "  </style>\n",
              "\n",
              "      <script>\n",
              "        const buttonEl =\n",
              "          document.querySelector('#df-ba055361-caef-4592-b489-493ade350712 button.colab-df-convert');\n",
              "        buttonEl.style.display =\n",
              "          google.colab.kernel.accessAllowed ? 'block' : 'none';\n",
              "\n",
              "        async function convertToInteractive(key) {\n",
              "          const element = document.querySelector('#df-ba055361-caef-4592-b489-493ade350712');\n",
              "          const dataTable =\n",
              "            await google.colab.kernel.invokeFunction('convertToInteractive',\n",
              "                                                     [key], {});\n",
              "          if (!dataTable) return;\n",
              "\n",
              "          const docLinkHtml = 'Like what you see? Visit the ' +\n",
              "            '<a target=\"_blank\" href=https://colab.research.google.com/notebooks/data_table.ipynb>data table notebook</a>'\n",
              "            + ' to learn more about interactive tables.';\n",
              "          element.innerHTML = '';\n",
              "          dataTable['output_type'] = 'display_data';\n",
              "          await google.colab.output.renderOutput(dataTable, element);\n",
              "          const docLink = document.createElement('div');\n",
              "          docLink.innerHTML = docLinkHtml;\n",
              "          element.appendChild(docLink);\n",
              "        }\n",
              "      </script>\n",
              "    </div>\n",
              "  </div>\n",
              "  "
            ]
          },
          "metadata": {},
          "execution_count": 17
        }
      ]
    },
    {
      "cell_type": "code",
      "source": [
        "#drop variables not ses\n",
        "cols = df_cat.drop(['gender','marital-status'],axis=1)"
      ],
      "metadata": {
        "id": "NnNJwNYFBL7E"
      },
      "execution_count": null,
      "outputs": []
    },
    {
      "cell_type": "code",
      "source": [
        "cols.info()"
      ],
      "metadata": {
        "colab": {
          "base_uri": "https://localhost:8080/"
        },
        "id": "YZwCu5vFBb8l",
        "outputId": "fd091dee-074d-4071-f38c-35be6e89cf2e"
      },
      "execution_count": null,
      "outputs": [
        {
          "output_type": "stream",
          "name": "stdout",
          "text": [
            "<class 'pandas.core.frame.DataFrame'>\n",
            "RangeIndex: 36312 entries, 0 to 36311\n",
            "Data columns (total 4 columns):\n",
            " #   Column               Non-Null Count  Dtype \n",
            "---  ------               --------------  ----- \n",
            " 0   id                   36312 non-null  object\n",
            " 1   highest-edu          36312 non-null  object\n",
            " 2   hh-income            36312 non-null  object\n",
            " 3   hh-expense-coverage  36312 non-null  object\n",
            "dtypes: object(4)\n",
            "memory usage: 1.1+ MB\n"
          ]
        }
      ]
    },
    {
      "cell_type": "code",
      "source": [
        "df_cat=cols"
      ],
      "metadata": {
        "id": "xPLJxsnhBrf4"
      },
      "execution_count": null,
      "outputs": []
    },
    {
      "cell_type": "code",
      "source": [
        "# Check missing value\n",
        "df_cat.isna().sum()"
      ],
      "metadata": {
        "colab": {
          "base_uri": "https://localhost:8080/"
        },
        "id": "szgX59wZBwJB",
        "outputId": "dbaf870c-e3df-49c4-de11-9af38d669294"
      },
      "execution_count": null,
      "outputs": [
        {
          "output_type": "execute_result",
          "data": {
            "text/plain": [
              "id                     0\n",
              "highest-edu            0\n",
              "hh-income              0\n",
              "hh-expense-coverage    0\n",
              "dtype: int64"
            ]
          },
          "metadata": {},
          "execution_count": 26
        }
      ]
    },
    {
      "cell_type": "code",
      "source": [
        "# Convert dataframe to matrix\n",
        "dfMatrix = df_cat.loc[:, df_cat.columns != 'id'].to_numpy()\n",
        "dfMatrix"
      ],
      "metadata": {
        "colab": {
          "base_uri": "https://localhost:8080/"
        },
        "id": "r_gkxYfTCDGi",
        "outputId": "86094936-8fcc-4a78-c9e7-376b9e91e025"
      },
      "execution_count": null,
      "outputs": [
        {
          "output_type": "execute_result",
          "data": {
            "text/plain": [
              "array([['tertiary', 'five', 'four'],\n",
              "       ['university', 'seven', 'four'],\n",
              "       ['secondary', 'three', 'three'],\n",
              "       ...,\n",
              "       ['tertiary', 'four', 'three'],\n",
              "       ['secondary', 'two', 'three'],\n",
              "       ['secondary', 'one', 'two']], dtype=object)"
            ]
          },
          "metadata": {},
          "execution_count": 27
        }
      ]
    },
    {
      "cell_type": "code",
      "source": [
        "# Choosing optimal K\n",
        "cost = []\n",
        "for cluster in range(1, 10):\n",
        "    try:\n",
        "        kmodes = KModes(n_jobs = -1, n_clusters = cluster, init = 'Huang', random_state = 0)\n",
        "        kmodes.fit_predict(dfMatrix)\n",
        "        cost.append(kmodes.cost_)\n",
        "        print('Cluster initiation: {}'.format(cluster))\n",
        "    except:\n",
        "        break"
      ],
      "metadata": {
        "colab": {
          "base_uri": "https://localhost:8080/"
        },
        "id": "ElP2ck4YCMAV",
        "outputId": "728083c9-80cf-4310-8b9f-203c9bcccf0a"
      },
      "execution_count": null,
      "outputs": [
        {
          "output_type": "stream",
          "name": "stdout",
          "text": [
            "Cluster initiation: 1\n",
            "Cluster initiation: 2\n",
            "Cluster initiation: 3\n",
            "Cluster initiation: 4\n",
            "Cluster initiation: 5\n",
            "Cluster initiation: 6\n",
            "Cluster initiation: 7\n",
            "Cluster initiation: 8\n",
            "Cluster initiation: 9\n"
          ]
        }
      ]
    },
    {
      "cell_type": "code",
      "source": [
        "# Converting the results into a dataframe and plotting them\n",
        "df_cost = pd.DataFrame({'Cluster': range(1, 10), 'Cost': cost})\n",
        "# Data viz\n",
        "plotnine.options.figure_size = (8, 4.8)\n",
        "(\n",
        "    ggplot(data = df_cost)+\n",
        "    geom_line(aes(x = 'Cluster',\n",
        "                  y = 'Cost'))+\n",
        "    geom_point(aes(x = 'Cluster',\n",
        "                   y = 'Cost'))+\n",
        "    geom_label(aes(x = 'Cluster',\n",
        "                   y = 'Cost',\n",
        "                   label = 'Cluster'),\n",
        "               size = 10,\n",
        "               nudge_y = 1000) +\n",
        "    labs(title = 'Optimal number of cluster with Elbow Method')+\n",
        "    xlab('Number of Clusters k')+\n",
        "    ylab('Cost')+\n",
        "    theme_minimal()\n",
        ")"
      ],
      "metadata": {
        "colab": {
          "base_uri": "https://localhost:8080/",
          "height": 503
        },
        "id": "ShdLKeiiCaug",
        "outputId": "ca83ba9f-01e8-4b49-c5cf-f2cbbfea9d2a"
      },
      "execution_count": null,
      "outputs": [
        {
          "output_type": "display_data",
          "data": {
            "text/plain": [
              "<Figure size 800x480 with 1 Axes>"
            ],
            "image/png": "[encoded data removed]"
          },
          "metadata": {
            "needs_background": "light"
          }
        },
        {
          "output_type": "execute_result",
          "data": {
            "text/plain": [
              "<ggplot: (8772010011757)>"
            ]
          },
          "metadata": {},
          "execution_count": 29
        }
      ]
    },
    {
      "cell_type": "markdown",
      "source": [
        "We selected three clusters based on the elbow method, which evaluates the sum of squared errors (SSE) for different values of k. This method identifies the point at which adding more clusters yields only marginal improvements in model fit. In other words, we choose k at the inflection point—where the SSE curve begins to flatten—indicating diminishing returns in explained variance."
      ],
      "metadata": {
        "id": "V1L5H1DoFZWH"
      }
    },
    {
      "cell_type": "code",
      "source": [
        "# Fit the cluster\n",
        "kmodes = KModes(n_jobs = -1, n_clusters = 3, init = 'Huang', random_state = 0)\n",
        "kmodes.fit_predict(dfMatrix)"
      ],
      "metadata": {
        "colab": {
          "base_uri": "https://localhost:8080/"
        },
        "id": "JzwjsJROF-bz",
        "outputId": "4a87f6c8-b2a6-44d1-d51a-c139e42ca43b"
      },
      "execution_count": null,
      "outputs": [
        {
          "output_type": "execute_result",
          "data": {
            "text/plain": [
              "array([0, 2, 1, ..., 0, 1, 1], dtype=uint16)"
            ]
          },
          "metadata": {},
          "execution_count": 31
        }
      ]
    },
    {
      "cell_type": "code",
      "source": [
        "# Cluster centorid\n",
        "kmodes.cluster_centroids_\n",
        "\n",
        "# Check the iteration of the clusters created\n",
        "kmodes.n_iter_\n",
        "\n",
        "# Check the cost of the clusters created\n",
        "kmodes.cost_"
      ],
      "metadata": {
        "colab": {
          "base_uri": "https://localhost:8080/"
        },
        "id": "dfs4LWl7GDv6",
        "outputId": "a8abc155-93ca-4676-aa3b-0decd54ecb30"
      },
      "execution_count": null,
      "outputs": [
        {
          "output_type": "execute_result",
          "data": {
            "text/plain": [
              "47000.0"
            ]
          },
          "metadata": {},
          "execution_count": 32
        }
      ]
    },
    {
      "cell_type": "code",
      "source": [
        "# Add the cluster to the dataframe\n",
        "df_cat['Cluster Labels'] = kmodes.labels_\n",
        "df_cat['Segment'] = df_cat['Cluster Labels'].map({0:'First', 1:'Second', 2:'Third'})\n",
        "\n",
        "# Order the cluster\n",
        "df_cat['Segment'] = df_cat['Segment'].astype('category')\n",
        "df_cat['Segment'] = df_cat['Segment'].cat.reorder_categories(['First', 'Second', 'Third'])"
      ],
      "metadata": {
        "id": "mFrfdfeqGJi9"
      },
      "execution_count": null,
      "outputs": []
    },
    {
      "cell_type": "code",
      "source": [
        "# Columns for centroids\n",
        "list_col = ['id', 'Cluster Labels', 'Segment']\n",
        "cols = [col for col in df_cat if col not in list_col]\n",
        "\n",
        "#Create an index for cluster interpretation\n",
        "index = ['First Cluster', 'Second Cluster', 'Third Cluster']\n",
        "\n",
        "# Create the data frame\n",
        "pd.DataFrame(kmodes.cluster_centroids_, columns = cols, index = index)"
      ],
      "metadata": {
        "colab": {
          "base_uri": "https://localhost:8080/",
          "height": 142
        },
        "id": "noL0QQDLFhW1",
        "outputId": "45a674e3-bef1-41dc-af4b-820bdd6c6acc"
      },
      "execution_count": null,
      "outputs": [
        {
          "output_type": "execute_result",
          "data": {
            "text/plain": [
              "               highest-edu hh-income hh-expense-coverage\n",
              "First Cluster     tertiary     three                four\n",
              "Second Cluster   secondary       two               three\n",
              "Third Cluster   university      four                four"
            ],
            "text/html": [
              "\n",
              "  <div id=\"df-1500d736-c5bb-421e-bf56-49b29f7b6e92\">\n",
              "    <div class=\"colab-df-container\">\n",
              "      <div>\n",
              "<style scoped>\n",
              "    .dataframe tbody tr th:only-of-type {\n",
              "        vertical-align: middle;\n",
              "    }\n",
              "\n",
              "    .dataframe tbody tr th {\n",
              "        vertical-align: top;\n",
              "    }\n",
              "\n",
              "    .dataframe thead th {\n",
              "        text-align: right;\n",
              "    }\n",
              "</style>\n",
              "<table border=\"1\" class=\"dataframe\">\n",
              "  <thead>\n",
              "    <tr style=\"text-align: right;\">\n",
              "      <th></th>\n",
              "      <th>highest-edu</th>\n",
              "      <th>hh-income</th>\n",
              "      <th>hh-expense-coverage</th>\n",
              "    </tr>\n",
              "  </thead>\n",
              "  <tbody>\n",
              "    <tr>\n",
              "      <th>First Cluster</th>\n",
              "      <td>tertiary</td>\n",
              "      <td>three</td>\n",
              "      <td>four</td>\n",
              "    </tr>\n",
              "    <tr>\n",
              "      <th>Second Cluster</th>\n",
              "      <td>secondary</td>\n",
              "      <td>two</td>\n",
              "      <td>three</td>\n",
              "    </tr>\n",
              "    <tr>\n",
              "      <th>Third Cluster</th>\n",
              "      <td>university</td>\n",
              "      <td>four</td>\n",
              "      <td>four</td>\n",
              "    </tr>\n",
              "  </tbody>\n",
              "</table>\n",
              "</div>\n",
              "      <button class=\"colab-df-convert\" onclick=\"convertToInteractive('df-1500d736-c5bb-421e-bf56-49b29f7b6e92')\"\n",
              "              title=\"Convert this dataframe to an interactive table.\"\n",
              "              style=\"display:none;\">\n",
              "        \n",
              "  <svg xmlns=\"http://www.w3.org/2000/svg\" height=\"24px\"viewBox=\"0 0 24 24\"\n",
              "       width=\"24px\">\n",
              "    <path d=\"M0 0h24v24H0V0z\" fill=\"none\"/>\n",
              "    <path d=\"M18.56 5.44l.94 2.06.94-2.06 2.06-.94-2.06-.94-.94-2.06-.94 2.06-2.06.94zm-11 1L8.5 8.5l.94-2.06 2.06-.94-2.06-.94L8.5 2.5l-.94 2.06-2.06.94zm10 10l.94 2.06.94-2.06 2.06-.94-2.06-.94-.94-2.06-.94 2.06-2.06.94z\"/><path d=\"M17.41 7.96l-1.37-1.37c-.4-.4-.92-.59-1.43-.59-.52 0-1.04.2-1.43.59L10.3 9.45l-7.72 7.72c-.78.78-.78 2.05 0 2.83L4 21.41c.39.39.9.59 1.41.59.51 0 1.02-.2 1.41-.59l7.78-7.78 2.81-2.81c.8-.78.8-2.07 0-2.86zM5.41 20L4 18.59l7.72-7.72 1.47 1.35L5.41 20z\"/>\n",
              "  </svg>\n",
              "      </button>\n",
              "      \n",
              "  <style>\n",
              "    .colab-df-container {\n",
              "      display:flex;\n",
              "      flex-wrap:wrap;\n",
              "      gap: 12px;\n",
              "    }\n",
              "\n",
              "    .colab-df-convert {\n",
              "      background-color: #E8F0FE;\n",
              "      border: none;\n",
              "      border-radius: 50%;\n",
              "      cursor: pointer;\n",
              "      display: none;\n",
              "      fill: #1967D2;\n",
              "      height: 32px;\n",
              "      padding: 0 0 0 0;\n",
              "      width: 32px;\n",
              "    }\n",
              "\n",
              "    .colab-df-convert:hover {\n",
              "      background-color: #E2EBFA;\n",
              "      box-shadow: 0px 1px 2px rgba(60, 64, 67, 0.3), 0px 1px 3px 1px rgba(60, 64, 67, 0.15);\n",
              "      fill: #174EA6;\n",
              "    }\n",
              "\n",
              "    [theme=dark] .colab-df-convert {\n",
              "      background-color: #3B4455;\n",
              "      fill: #D2E3FC;\n",
              "    }\n",
              "\n",
              "    [theme=dark] .colab-df-convert:hover {\n",
              "      background-color: #434B5C;\n",
              "      box-shadow: 0px 1px 3px 1px rgba(0, 0, 0, 0.15);\n",
              "      filter: drop-shadow(0px 1px 2px rgba(0, 0, 0, 0.3));\n",
              "      fill: #FFFFFF;\n",
              "    }\n",
              "  </style>\n",
              "\n",
              "      <script>\n",
              "        const buttonEl =\n",
              "          document.querySelector('#df-1500d736-c5bb-421e-bf56-49b29f7b6e92 button.colab-df-convert');\n",
              "        buttonEl.style.display =\n",
              "          google.colab.kernel.accessAllowed ? 'block' : 'none';\n",
              "\n",
              "        async function convertToInteractive(key) {\n",
              "          const element = document.querySelector('#df-1500d736-c5bb-421e-bf56-49b29f7b6e92');\n",
              "          const dataTable =\n",
              "            await google.colab.kernel.invokeFunction('convertToInteractive',\n",
              "                                                     [key], {});\n",
              "          if (!dataTable) return;\n",
              "\n",
              "          const docLinkHtml = 'Like what you see? Visit the ' +\n",
              "            '<a target=\"_blank\" href=https://colab.research.google.com/notebooks/data_table.ipynb>data table notebook</a>'\n",
              "            + ' to learn more about interactive tables.';\n",
              "          element.innerHTML = '';\n",
              "          dataTable['output_type'] = 'display_data';\n",
              "          await google.colab.output.renderOutput(dataTable, element);\n",
              "          const docLink = document.createElement('div');\n",
              "          docLink.innerHTML = docLinkHtml;\n",
              "          element.appendChild(docLink);\n",
              "        }\n",
              "      </script>\n",
              "    </div>\n",
              "  </div>\n",
              "  "
            ]
          },
          "metadata": {},
          "execution_count": 34
        }
      ]
    },
    {
      "cell_type": "code",
      "source": [
        "df_cat.head()"
      ],
      "metadata": {
        "colab": {
          "base_uri": "https://localhost:8080/",
          "height": 204
        },
        "id": "38AZ_3f5Gmk_",
        "outputId": "e0f88e37-b6e2-45f1-979c-c4ce2168c60f"
      },
      "execution_count": null,
      "outputs": [
        {
          "output_type": "execute_result",
          "data": {
            "text/plain": [
              "    id highest-edu hh-income hh-expense-coverage  Cluster Labels Segment\n",
              "0  2.0    tertiary      five                four               0   First\n",
              "1  3.0  university     seven                four               2   Third\n",
              "2  4.0   secondary     three               three               1  Second\n",
              "3  5.0    tertiary     three                four               0   First\n",
              "4  6.0  university     seven                four               2   Third"
            ],
            "text/html": [
              "\n",
              "  <div id=\"df-c0d364a4-0bcd-4bd8-89f7-b77a5683f089\">\n",
              "    <div class=\"colab-df-container\">\n",
              "      <div>\n",
              "<style scoped>\n",
              "    .dataframe tbody tr th:only-of-type {\n",
              "        vertical-align: middle;\n",
              "    }\n",
              "\n",
              "    .dataframe tbody tr th {\n",
              "        vertical-align: top;\n",
              "    }\n",
              "\n",
              "    .dataframe thead th {\n",
              "        text-align: right;\n",
              "    }\n",
              "</style>\n",
              "<table border=\"1\" class=\"dataframe\">\n",
              "  <thead>\n",
              "    <tr style=\"text-align: right;\">\n",
              "      <th></th>\n",
              "      <th>id</th>\n",
              "      <th>highest-edu</th>\n",
              "      <th>hh-income</th>\n",
              "      <th>hh-expense-coverage</th>\n",
              "      <th>Cluster Labels</th>\n",
              "      <th>Segment</th>\n",
              "    </tr>\n",
              "  </thead>\n",
              "  <tbody>\n",
              "    <tr>\n",
              "      <th>0</th>\n",
              "      <td>2.0</td>\n",
              "      <td>tertiary</td>\n",
              "      <td>five</td>\n",
              "      <td>four</td>\n",
              "      <td>0</td>\n",
              "      <td>First</td>\n",
              "    </tr>\n",
              "    <tr>\n",
              "      <th>1</th>\n",
              "      <td>3.0</td>\n",
              "      <td>university</td>\n",
              "      <td>seven</td>\n",
              "      <td>four</td>\n",
              "      <td>2</td>\n",
              "      <td>Third</td>\n",
              "    </tr>\n",
              "    <tr>\n",
              "      <th>2</th>\n",
              "      <td>4.0</td>\n",
              "      <td>secondary</td>\n",
              "      <td>three</td>\n",
              "      <td>three</td>\n",
              "      <td>1</td>\n",
              "      <td>Second</td>\n",
              "    </tr>\n",
              "    <tr>\n",
              "      <th>3</th>\n",
              "      <td>5.0</td>\n",
              "      <td>tertiary</td>\n",
              "      <td>three</td>\n",
              "      <td>four</td>\n",
              "      <td>0</td>\n",
              "      <td>First</td>\n",
              "    </tr>\n",
              "    <tr>\n",
              "      <th>4</th>\n",
              "      <td>6.0</td>\n",
              "      <td>university</td>\n",
              "      <td>seven</td>\n",
              "      <td>four</td>\n",
              "      <td>2</td>\n",
              "      <td>Third</td>\n",
              "    </tr>\n",
              "  </tbody>\n",
              "</table>\n",
              "</div>\n",
              "      <button class=\"colab-df-convert\" onclick=\"convertToInteractive('df-c0d364a4-0bcd-4bd8-89f7-b77a5683f089')\"\n",
              "              title=\"Convert this dataframe to an interactive table.\"\n",
              "              style=\"display:none;\">\n",
              "        \n",
              "  <svg xmlns=\"http://www.w3.org/2000/svg\" height=\"24px\"viewBox=\"0 0 24 24\"\n",
              "       width=\"24px\">\n",
              "    <path d=\"M0 0h24v24H0V0z\" fill=\"none\"/>\n",
              "    <path d=\"M18.56 5.44l.94 2.06.94-2.06 2.06-.94-2.06-.94-.94-2.06-.94 2.06-2.06.94zm-11 1L8.5 8.5l.94-2.06 2.06-.94-2.06-.94L8.5 2.5l-.94 2.06-2.06.94zm10 10l.94 2.06.94-2.06 2.06-.94-2.06-.94-.94-2.06-.94 2.06-2.06.94z\"/><path d=\"M17.41 7.96l-1.37-1.37c-.4-.4-.92-.59-1.43-.59-.52 0-1.04.2-1.43.59L10.3 9.45l-7.72 7.72c-.78.78-.78 2.05 0 2.83L4 21.41c.39.39.9.59 1.41.59.51 0 1.02-.2 1.41-.59l7.78-7.78 2.81-2.81c.8-.78.8-2.07 0-2.86zM5.41 20L4 18.59l7.72-7.72 1.47 1.35L5.41 20z\"/>\n",
              "  </svg>\n",
              "      </button>\n",
              "      \n",
              "  <style>\n",
              "    .colab-df-container {\n",
              "      display:flex;\n",
              "      flex-wrap:wrap;\n",
              "      gap: 12px;\n",
              "    }\n",
              "\n",
              "    .colab-df-convert {\n",
              "      background-color: #E8F0FE;\n",
              "      border: none;\n",
              "      border-radius: 50%;\n",
              "      cursor: pointer;\n",
              "      display: none;\n",
              "      fill: #1967D2;\n",
              "      height: 32px;\n",
              "      padding: 0 0 0 0;\n",
              "      width: 32px;\n",
              "    }\n",
              "\n",
              "    .colab-df-convert:hover {\n",
              "      background-color: #E2EBFA;\n",
              "      box-shadow: 0px 1px 2px rgba(60, 64, 67, 0.3), 0px 1px 3px 1px rgba(60, 64, 67, 0.15);\n",
              "      fill: #174EA6;\n",
              "    }\n",
              "\n",
              "    [theme=dark] .colab-df-convert {\n",
              "      background-color: #3B4455;\n",
              "      fill: #D2E3FC;\n",
              "    }\n",
              "\n",
              "    [theme=dark] .colab-df-convert:hover {\n",
              "      background-color: #434B5C;\n",
              "      box-shadow: 0px 1px 3px 1px rgba(0, 0, 0, 0.15);\n",
              "      filter: drop-shadow(0px 1px 2px rgba(0, 0, 0, 0.3));\n",
              "      fill: #FFFFFF;\n",
              "    }\n",
              "  </style>\n",
              "\n",
              "      <script>\n",
              "        const buttonEl =\n",
              "          document.querySelector('#df-c0d364a4-0bcd-4bd8-89f7-b77a5683f089 button.colab-df-convert');\n",
              "        buttonEl.style.display =\n",
              "          google.colab.kernel.accessAllowed ? 'block' : 'none';\n",
              "\n",
              "        async function convertToInteractive(key) {\n",
              "          const element = document.querySelector('#df-c0d364a4-0bcd-4bd8-89f7-b77a5683f089');\n",
              "          const dataTable =\n",
              "            await google.colab.kernel.invokeFunction('convertToInteractive',\n",
              "                                                     [key], {});\n",
              "          if (!dataTable) return;\n",
              "\n",
              "          const docLinkHtml = 'Like what you see? Visit the ' +\n",
              "            '<a target=\"_blank\" href=https://colab.research.google.com/notebooks/data_table.ipynb>data table notebook</a>'\n",
              "            + ' to learn more about interactive tables.';\n",
              "          element.innerHTML = '';\n",
              "          dataTable['output_type'] = 'display_data';\n",
              "          await google.colab.output.renderOutput(dataTable, element);\n",
              "          const docLink = document.createElement('div');\n",
              "          docLink.innerHTML = docLinkHtml;\n",
              "          element.appendChild(docLink);\n",
              "        }\n",
              "      </script>\n",
              "    </div>\n",
              "  </div>\n",
              "  "
            ]
          },
          "metadata": {},
          "execution_count": 35
        }
      ]
    },
    {
      "cell_type": "markdown",
      "source": [
        "** Note to reorder the clusters because not from lowest to highest SES (currently reverse coded)"
      ],
      "metadata": {
        "id": "SI-wK_NIIeVf"
      }
    },
    {
      "cell_type": "code",
      "source": [
        "df_cat.to_csv('locard-individual-withcluster.csv')"
      ],
      "metadata": {
        "id": "wSubC6RaG-gO"
      },
      "execution_count": null,
      "outputs": []
    }
  ]
}